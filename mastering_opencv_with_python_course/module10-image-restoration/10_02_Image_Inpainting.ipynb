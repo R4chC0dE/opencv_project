{
 "cells": [
  {
   "cell_type": "markdown",
   "metadata": {},
   "source": [
    "<h1 style=\"font-size:30px;\">Image Inpainting for Image Restoration</h1>\n",
    "\n",
    "In this module we will describe a class of *region filling algorithms* called **image inpainting**.\n",
    "\n",
    "Imagine finding an old family photograph. You scan it and it looks great, except for a few scratches. Of course, you could always load the photo in Photoshop to fix the scratches. Instead, in this notebook we will leverage OpenCV to fix the image."
   ]
  },
  {
   "cell_type": "markdown",
   "metadata": {},
   "source": [
    "# 1. What is Image Inpainting?\n",
    "\n",
    "Image inpainting is a class of algorithms in computer vision where the objective is to fill regions inside an image or a video in a way that it fits the context of its surroundings.\n",
    "\n",
    "The region is identified using a binary mask, and the filling is usually done by propagating information from the boundary of the region that needs to be filled.\n",
    "\n",
    "A common application of image inpainting is the restoration of old scanned photos. It is also used for removing small unwanted objects in an image."
   ]
  },
  {
   "cell_type": "markdown",
   "metadata": {},
   "source": [
    "# 2. Inpainting Algorithms\n",
    "\n",
    "In this section, we will briefly discuss two inpainting algorithms implemented in OpenCV."
   ]
  },
  {
   "cell_type": "markdown",
   "metadata": {},
   "source": [
    "## 2.1 Navier-Stokes & Fast Marching\n",
    "### <font style=\"color:rgb(50,120,230)\">INPAINT_NS : Navier-Stokes based Inpainting</font>\n",
    "    \n",
    "This method was published in 2001 in a paper titled [\"Navier-Stokes, Fluid Dynamics, and Image and Video Inpainting\"](http://www.math.ucla.edu/~bertozzi/papers/cvpr01.pdf).\n",
    "\n",
    "This paper shows off how the field of Computer Vision is a melting pot of different disciplines, pulling concepts from fields like electrical engineering, computer science, physics, and mathematics. They bring their ideas to the field and solve the same problem in very interesting and unique ways. An electrical engineer may see an image as a 2D signal and apply the theories of signal processing to solve computer vision problems. On the other hand, a mathematician may see an image as a connected graph and solve computer vision problems using graph theory.\n",
    "\n",
    "So it isn’t surprising that theories developed for fluid dynamics also make their way into computer vision.\n",
    "\n",
    "In the image below, our objective is to fill the dark region and obtain an image that looks like the one on the right."
   ]
  },
  {
   "cell_type": "markdown",
   "metadata": {},
   "source": [
    "<br>\n",
    "<center>\n",
    "<img src=\"https://www.learnopencv.com/wp-content/uploads/2019/04/image-inpainting-example.jpg\" alt=\"/image-inpainting-example.jpg\">\n",
    "</center>\n",
    "<br>"
   ]
  },
  {
   "cell_type": "markdown",
   "metadata": {},
   "source": [
    "How do we fill this black region? One constraint we would like is the edge entering point A should continue to the edge leaving point B. The other constraint we may want is that the region on the right of the curve joining A and B should be white, and the region on the left should be blue.\n",
    "\n",
    "The above two constraints can be summarized as:\n",
    "\n",
    "1. Preserve gradients (i.e. edge-like features)\n",
    "2. Continue to propagate color information in smooth regions\n",
    "\n",
    "The authors set up a partial differential equation (PDE) to update image intensities inside the region with the above constraints.\n",
    "\n",
    "The image smoothness information is estimated by the image Laplacian and it is propagated along the isophotes (contours of equal intensities). The isophotes are estimated by the image gradient rotated by 90 degrees.\n",
    "\n",
    "The authors show that these equations are closely related in form to the Navier-Stokes equations for 2D incompressible fluids.\n",
    "\n",
    "The benefit of reframing the problem in the field of fluid dynamics, is that we benefit from well developed theoretical analysis and numerical tools."
   ]
  },
  {
   "cell_type": "markdown",
   "metadata": {},
   "source": [
    "### <font style=\"color:rgb(50,120,230)\">INPAINT_TELEA : Fast Marching Method based</font>\n",
    "\n",
    "This implementation is based on a paper titled [\"An Image Inpainting Technique Based on the Fast Marching Method\"](https://pdfs.semanticscholar.org/622d/5f432e515da69f8f220fb92b17c8426d0427.pdf) by Alexandru Telea.\n",
    "\n",
    "This implementation solves the same constraints using a different technique. Instead of using the image Laplacian as the estimator of smoothness, the author uses a weighted average over a known image neighborhood of the pixel to inpaint. The known neighborhood pixels and gradients are used to estimate the color of the pixel to be inpainted.\n",
    "\n",
    "Once a pixel is inpainted, the boundary needs to be updated. The author treats the missing region of the image as [level sets](https://en.wikipedia.org/wiki/Level_set) and uses the [fast marching method](https://en.wikipedia.org/wiki/Fast_marching_method) to update the boundary."
   ]
  },
  {
   "cell_type": "markdown",
   "metadata": {},
   "source": [
    "## 2.2 Pros and Cons\n",
    "\n",
    "As per the theory and the papers, Navier-Stokes based inpainting is supposed to be slower and has a tendency to produce results that are blurrier than the Fast Marching based method.\n",
    "\n",
    "In practice though, the performance may vary depending on the image."
   ]
  },
  {
   "cell_type": "markdown",
   "metadata": {},
   "source": [
    "## 2.3 Inpainting Code in Python\n",
    "\n",
    "<hr style=\"border:none; height: 4px; background-color:#D3D3D3\" />\n",
    "\n",
    "### <font style = \"color:rgb(8,133,37)\">Function Syntax</font>\n",
    "    \n",
    "In OpenCV inpainting is implemented using the function `inpaint`.\n",
    "\n",
    "```python\n",
    "dst = cv2.inpaint(src, inpaintMask, inpaintRadius, flags)\n",
    "```\n",
    "\n",
    "Where,\n",
    "\n",
    "- **`src`**: Source image\n",
    "- **`inpaintMask`**: A binary mask indicating pixels to be inpainted.\n",
    "- **`dst`**: Destination image\n",
    "- **`inpaintRadius`**: Neighborhood around a pixel to inpaint. Typically, if the regions to be inpainted are thin, smaller values produce better results (less blurry).\n",
    "- **`flags`**: `INPAINT_NS` (Navier-Stokes based method) or `INPAINT_TELEA` (Fast marching based method)\n",
    "\n",
    "### <font color=\"green\">OpenCV Documentation</font>\n",
    "\n",
    "\n",
    "[**`inpaint()`**](https://docs.opencv.org/4.5.3/d7/d8b/group__photo__inpaint.html)\n",
    "\n",
    "<hr style=\"border:none; height: 4px; background-color:#D3D3D3\" />"
   ]
  },
  {
   "cell_type": "markdown",
   "metadata": {},
   "source": [
    "# 3. Sample implementation\n",
    "\n",
    "Below, we will create an interactive demo which can run either of these two inpainting algorithms."
   ]
  },
  {
   "cell_type": "code",
   "execution_count": 19,
   "metadata": {},
   "outputs": [],
   "source": [
    "import numpy as np\n",
    "import cv2\n",
    "import time\n",
    "import matplotlib.pyplot as plt\n",
    "\n",
    "if 'google.colab' in str(get_ipython()):\n",
    "    print(\"Downloading Code to Colab Environment\")\n",
    "    !wget https://www.dropbox.com/sh/btghqk0xvgeypl1/AAD9K7FQ_s0j3Dw-4K-JPjdya?dl=1 -O module-code.zip -q --show-progress\n",
    "    !unzip -qq module-code.zip\n",
    "else:\n",
    "    pass"
   ]
  },
  {
   "cell_type": "code",
   "execution_count": 23,
   "metadata": {},
   "outputs": [],
   "source": [
    "class Sketcher:\n",
    "    \"\"\"OpenCV Utility class for mouse handling.\"\"\"\n",
    "\n",
    "    def __init__(self, windowname, dests, colors_func):\n",
    "        self.prev_pt = None\n",
    "        self.windowname = windowname\n",
    "        self.dests = dests\n",
    "        self.colors_func = colors_func\n",
    "        self.dirty = False\n",
    "        self.show()\n",
    "        cv2.setMouseCallback(self.windowname, self.on_mouse)\n",
    "\n",
    "    def show(self):\n",
    "        cv2.imshow(self.windowname, self.dests[0])\n",
    "        for i in range(1, len(self.dests)):\n",
    "            cv2.imshow(self.windowname + f\": mask {i}\", self.dests[i])\n",
    "\n",
    "    def on_mouse(self, event, x, y, flags, param):\n",
    "        \"\"\"Hanles mouse movement and events.\"\"\"\n",
    "        pt = (x, y)\n",
    "        if event == cv2.EVENT_LBUTTONDOWN:\n",
    "            self.prev_pt = pt\n",
    "        elif event == cv2.EVENT_LBUTTONUP:\n",
    "            self.prev_pt = None\n",
    "\n",
    "        if self.prev_pt and flags & cv2.EVENT_FLAG_LBUTTON:\n",
    "            for dst, color in zip(self.dests, self.colors_func()):\n",
    "                cv2.line(dst, self.prev_pt, pt, color, 5)\n",
    "            self.dirty = True\n",
    "            self.prev_pt = pt\n",
    "            self.show()\n",
    "\n",
    "# Read image in color mode.\n",
    "filename = \"images/Car.jpg\"\n",
    "img = cv2.imread(filename, cv2.IMREAD_COLOR)\n",
    "\n",
    "# If image is not read properly, return error.\n",
    "if img is None:\n",
    "    print('Failed to load image file: {}'.format(filename))\n",
    "\n",
    "# Create a copy of original image.\n",
    "img_mask = img.copy()\n",
    "# Create a black copy of original image, acts as a mask.\n",
    "inpaintMask = np.zeros(img.shape[:2], np.uint8)\n",
    "# Create sketch using OpenCV Utility Class: Sketcher.\n",
    "sketch = Sketcher('image', [img_mask, inpaintMask], lambda : ((0, 255, 0), 255))"
   ]
  },
  {
   "cell_type": "code",
   "execution_count": 24,
   "metadata": {},
   "outputs": [],
   "source": [
    "while True:\n",
    "    ch = cv2.waitKey()\n",
    "    if ch == 27:\n",
    "        break\n",
    "    if ch == ord('t'):\n",
    "        # Use Algorithm proposed by Alexendra Telea: Fast Marching Method (2004).\n",
    "        t1t = time.time()\n",
    "        res = cv2.inpaint(src=img_mask, inpaintMask=inpaintMask, inpaintRadius=3, flags=cv2.INPAINT_TELEA)\n",
    "        t2t = time.time()\n",
    "        ttime = t2t-t1t\n",
    "        cv2.imshow('Inpaint Output using FMM', res)\n",
    "    if ch == ord('n'):\n",
    "        # Navier-Stokes, Fluid Dynamics, and Image and Video Inpainting (2001).\n",
    "        t1n = time.time()\n",
    "        res = cv2.inpaint(src = img_mask, inpaintMask = inpaintMask, inpaintRadius=3, flags=cv2.INPAINT_NS)\n",
    "        t2n = time.time()\n",
    "        ntime = t2n-t1n\n",
    "        cv2.imshow('Inpaint Output using NS Technique', res)\n",
    "    if ch == ord('r'):\n",
    "        img_mask[:] = img\n",
    "        inpaintMask[:] = 0\n",
    "        sketch.show()\n",
    "\n",
    "cv2.destroyAllWindows()"
   ]
  },
  {
   "cell_type": "code",
   "execution_count": 25,
   "metadata": {},
   "outputs": [
    {
     "data": {
      "image/png": "[encoded data removed]",
      "text/plain": [
       "<Figure size 1000x1000 with 1 Axes>"
      ]
     },
     "metadata": {},
     "output_type": "display_data"
    }
   ],
   "source": [
    "times = [ttime, ntime]\n",
    "methods = ['INPAINT_TELEA', 'INPAINT_NS']\n",
    "\n",
    "# Plot size\n",
    "fig = plt.figure(figsize = (10, 10))\n",
    " \n",
    "# Creating the stacked bar plot\n",
    "plt.bar(methods, times, color ='blue', width = 0.3)\n",
    " \n",
    "plt.xlabel('Algorithms')\n",
    "plt.ylabel('Runtime')\n",
    "plt.title('Runtime comparison')\n",
    "plt.show()"
   ]
  },
  {
   "cell_type": "markdown",
   "metadata": {},
   "source": [
    "# 4. Inpainting Results</font>\n",
    "Let’s look at the result of applying inpainting to some old images that have given the test of time.\n",
    "\n",
    "| ![c0-m10-inpaint-output1.jpg](https://opencv.org/wp-content/uploads/2021/09/c0-m10-inPaint-output1.jpg) |\n",
    "| --- |\n",
    "| <center>Inpainting Results : The first image (top-left) is the input image, the second image (top-right) is the mask, the third image (bottom-left) is the result of INPAINT_TELEA and the last image (bottom-right) is by INPAINT_NS.</center> |\n",
    "\n",
    "<br><br>\n",
    "\n",
    "| ![c0-m10-inpaint-output2.jpg](https://opencv.org/wp-content/uploads/2021/09/c0-m10-inPaint-output2.jpg) |\n",
    "| --- |\n",
    "| <center>Inpainting Results : The first image (top-left) is the input image, the second image (top-right) is the mask, the third image (bottom-left) is the result of INPAINT_TELEA and the last image (bottom-right) is by INPAINT_NS.</center> |"
   ]
  }
 ],
 "metadata": {
  "kernelspec": {
   "display_name": "Python 3",
   "language": "python",
   "name": "python3"
  },
  "language_info": {
   "codemirror_mode": {
    "name": "ipython",
    "version": 3
   },
   "file_extension": ".py",
   "mimetype": "text/x-python",
   "name": "python",
   "nbconvert_exporter": "python",
   "pygments_lexer": "ipython3",
   "version": "3.9.5"
  }
 },
 "nbformat": 4,
 "nbformat_minor": 4
}
