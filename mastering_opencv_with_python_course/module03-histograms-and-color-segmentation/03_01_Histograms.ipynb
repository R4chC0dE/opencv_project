{
 "cells": [
  {
   "cell_type": "markdown",
   "metadata": {},
   "source": [
    "<h1 style=\"font-size:30px;\">Image Histograms </h1>\n",
    "\n",
    "Image histograms are primarily used as an analysis tool in computer vision as they quantify the distribution of data associated with an image (for example, intensity values within an image). In this notebook we will demonstrate how to produce image histograms and how to interpret the plots. We will also cover the topic of histogram equalization which can help improve the contrast in poorly illuminated images. As you will see, the results are often stunning."
   ]
  },
  {
   "cell_type": "code",
   "execution_count": null,
   "metadata": {},
   "outputs": [],
   "source": [
    "if 'google.colab' in str(get_ipython()):\n",
    "  !pip install matplotlib==3.5.2\n",
    "  !pip install --upgrade opencv-contrib-python\n",
    "  print(\"Downloading Code to Colab Environment\")\n",
    "  !wget https://www.dropbox.com/sh/s1bc9bnavqx9ryo/AABFVq9q_73nOcZ4T05k40rga?dl=1 -O module-code.zip -q --show-progress\n",
    "  !unzip -qq module-code.zip\n",
    "else:\n",
    "    pass"
   ]
  },
  {
   "cell_type": "code",
   "execution_count": null,
   "metadata": {},
   "outputs": [],
   "source": [
    "import cv2\n",
    "import numpy as np\n",
    "import matplotlib\n",
    "from matplotlib import pyplot as plt\n",
    "%matplotlib inline\n",
    "plt.rcParams['image.cmap'] = 'gray'"
   ]
  },
  {
   "cell_type": "code",
   "execution_count": null,
   "metadata": {},
   "outputs": [],
   "source": [
    "# Check version of matplotlib, should be greter than or equal to 3.3.0. \n",
    "matplotlib.__version__"
   ]
  },
  {
   "cell_type": "markdown",
   "metadata": {},
   "source": [
    "# 1. Introduction to Histograms\n",
    "\n",
    "Histograms are collected counts of data organized into a set of predefined bins. When we plot histograms, we need to specify the number of bins along the x-axis. A bin represents a bucket range of values, such as pixel intensities 0-9, 10-19, 20-29, and so on. We will see several examples below that will help solidify this concept."
   ]
  },
  {
   "cell_type": "markdown",
   "metadata": {},
   "source": [
    "<hr style=\"border:none; height: 4px; background-color:#D3D3D3\" />\n",
    "\n",
    "### <font color=\"green\">Function Syntax </font>\n",
    "``` python\n",
    "retval = plt.hist(x[, bins[, range[, ...]]])\n",
    "```\n",
    "\n",
    "`retval`: Array or list of arrays, the values of the histogram bins. If input is a sequence of arrays [data1, data2, ...], then this is a list of arrays with the values of the histograms for each of the arrays in the same order. The dtype of the array n (or of its element arrays) will always be float even if no weighting or normalization is used.\n",
    "\n",
    "The function has **1 required input argument** and several optional flags:\n",
    "\n",
    "1. `x`: Array or sequence of (n,) arrays. Input values, this takes either a single array or a sequence of arrays which are not required to be of the same length.\n",
    "2. `bins`: Defines the number of equal-width bins in the range. This is an **optional argument** with a default value of 10.\n",
    "2. `range`: The lower and upper range of the bins, where lower and upper outliers are ignored. This is an **optional argument** with a default value of None, equivalent to using the whole range of the input `x`.\n",
    "\n",
    "\n",
    "### <font color=\"green\">OpenCV Documentation</font>\n",
    "\n",
    "[**`histogram tutorial`**](https://docs.opencv.org/4.5.2/d8/dbc/tutorial_histogram_calculation.html)\n",
    "\n",
    "### <font color=\"green\">Matplotlib / Numpy Documentation</font>\n",
    "\n",
    "[**`zeros()`**](https://numpy.org/doc/stable/reference/generated/numpy.zeros.html)\n",
    "[**`ravel()`**](https://numpy.org/doc/stable/reference/generated/numpy.ravel.html)\n",
    "[**`hist()`**](https://matplotlib.org/stable/api/_as_gen/matplotlib.pyplot.hist.html)\n",
    "\n",
    "<hr style=\"border:none; height: 4px; background-color:#D3D3D3\" />"
   ]
  },
  {
   "cell_type": "markdown",
   "metadata": {},
   "source": [
    "### <font style=\"color:rgb(50,120,230)\">Create a simple histogram of a black image</font>"
   ]
  },
  {
   "cell_type": "code",
   "execution_count": null,
   "metadata": {},
   "outputs": [],
   "source": [
    "# Create a numpy array of 20x20x1 filled with zero values, equivalent to a black grayscale image.\n",
    "black_img = np.zeros([20, 20, 1])\n",
    "\n",
    "# Flatten the image data into a single 1D array.\n",
    "black_flatten = black_img.ravel()\n",
    "\n",
    "# Display the image and histogram.\n",
    "plt.figure(figsize=[18, 4])\n",
    "\n",
    "plt.subplot(131); plt.imshow(black_img); plt.title('Black Image')\n",
    "\n",
    "plt.subplot(132) \n",
    "plt.hist(black_flatten, range = [0, 256])\n",
    "plt.xlim([0, 256])\n",
    "plt.xlabel('Pixel Intensity')\n",
    "plt.ylabel('Numer of Pixels')\n",
    "plt.title('Histogram of black image')"
   ]
  },
  {
   "cell_type": "markdown",
   "metadata": {},
   "source": [
    "### <font style=\"color:rgb(50,120,230)\">Explanation</font>\n",
    "\n",
    "Using the numpy zeros function, we can easily generate a simple black image. It is technically a grayscale image with only one channel, including a total of 400 pixels. We then create a histogram of this image using the default number of bins (10), and we specify that the histogram should create these bins evenly across intensity values from 0 to 256. The upper end of this range is non inclusive, and so the histogram could ultimately show any pixel intensities up to and including a value of 255.\n",
    "\n",
    "The histogram's vertical bars represent the total number of pixels with an intensity value that falls within that particular bin. Looking at the resulting histogram of a purely black image, we find that all values mapped into the first bin. We can also see that the total number of pixels (400) exactly equals the y-value pixel count in this first bin, related back to the 20x20 image size we generated."
   ]
  },
  {
   "cell_type": "markdown",
   "metadata": {},
   "source": [
    "### <font style=\"color:rgb(50,120,230)\">Create a histogram from a binary image</font>"
   ]
  },
  {
   "cell_type": "code",
   "execution_count": null,
   "metadata": {},
   "outputs": [],
   "source": [
    "# Read the image.\n",
    "img = cv2.imread('checkerboard_18x18.png', cv2.IMREAD_GRAYSCALE)\n",
    "\n",
    "# Flatten the image data into a single 1D array.\n",
    "img_flatten = img.ravel()\n",
    "\n",
    "# Display the image and histograms.\n",
    "plt.figure(figsize = [18, 4])\n",
    "\n",
    "plt.subplot(131); plt.imshow(img); plt.title('Original Image')\n",
    "\n",
    "plt.subplot(132) \n",
    "plt.hist(img_flatten, 5, [0, 256])\n",
    "plt.xlim([0, 256])\n",
    "plt.xlabel('Pixel Intensity')\n",
    "plt.ylabel('Numer of Pixels')\n",
    "plt.title('5 Bins')\n",
    "\n",
    "plt.subplot(133)\n",
    "plt.hist(img_flatten, 50, [0, 256])\n",
    "plt.xlim([0, 256])\n",
    "plt.xlabel('Pixel Intensity')\n",
    "plt.ylabel('Numer of Pixels')\n",
    "plt.title('50 Bins')"
   ]
  },
  {
   "cell_type": "markdown",
   "metadata": {},
   "source": [
    "### <font style=\"color:rgb(50,120,230)\">Explanation</font>\n",
    "\n",
    "The checkerboard image above is 18x18 pixels, so the total number of pixels in the image is 324. Furthermore, the intensities of the pixels are only 0 (black) or 255 (white). The histogram plots to the right show the distribution of pixel intensities. When we plot histograms, it is helpful to specify the number of bins along the x-axis. The first histogram has 5 bins and the second histogram has 50 bins. Since we are plotting the distribution of pixel intensities the x-axis ranges from 0 to 255. Thus, the bin width in the first plot is 51 and the bin width in the second plot is 5.1 (a non-integer width).\n",
    "\n",
    "In this example, the height of the bar to the left of each plot is 180. This means that there are 180 pixels with intensities that in that corresponding bin. Since the intensities in this image are either 0 or 255, the width of the bin (5.1 or 51) does not matter because both bins include the value of 0. Likewise, the total number of white pixels (144) matches the height of the bar to the right of the plot (144) in both plots because both bins at the high range include the intensity value of 255.\n",
    "\n",
    "The histograms reveal that the ratio of black to white squares is 5:4 (or 180:144). It's worth emphasizing that histograms of this type do not contain any spatial information about the image.\n",
    "\n",
    "Selecting a particular bin size has to do with granularity, but for images it is very common to set the number of bins to be 256 which is equivalent to a bin width of 1."
   ]
  },
  {
   "cell_type": "markdown",
   "metadata": {},
   "source": [
    "### <font style=\"color:rgb(50,120,230)\">Create a histogram from a grayscale image (example 1)</font>"
   ]
  },
  {
   "cell_type": "code",
   "execution_count": null,
   "metadata": {},
   "outputs": [],
   "source": [
    "# Read the image.\n",
    "img = cv2.imread('MNIST_3_18x18.png', cv2.IMREAD_GRAYSCALE)\n",
    "\n",
    "# Flatten the image data into a single 1D array.\n",
    "img_flatten = img.ravel()\n",
    "\n",
    "# Display the image and histograms.\n",
    "plt.figure(figsize = [18, 4])\n",
    "\n",
    "plt.subplot(131); plt.imshow(img); plt.title('Original Image')\n",
    "plt.subplot(132); plt.hist(img_flatten, 5, [0, 256]);  plt.xlim([0, 256]); plt.title('5 Bins')\n",
    "plt.subplot(133); plt.hist(img_flatten, 50, [0, 256]); plt.xlim([0, 256]); plt.title('50 Bins')"
   ]
  },
  {
   "cell_type": "markdown",
   "metadata": {},
   "source": [
    "### <font style=\"color:rgb(50,120,230)\">Create a histogram from a grayscale image (example 2)</font>"
   ]
  },
  {
   "cell_type": "code",
   "execution_count": null,
   "metadata": {},
   "outputs": [],
   "source": [
    "# Read the image.\n",
    "img = cv2.imread('Apollo-8-Launch.jpg', cv2.IMREAD_GRAYSCALE)\n",
    "\n",
    "# Flatten the image data into a single 1D array.\n",
    "img_flatten = img.ravel()\n",
    "\n",
    "# Display the image and histograms.\n",
    "plt.figure(figsize = [18, 4])\n",
    "plt.subplot(131); plt.imshow(img); plt.title('Original Image')\n",
    "plt.subplot(132); plt.hist(img_flatten, 50, [0,256]);  plt.xlim([0, 256]); plt.title('50 Bins')\n",
    "plt.subplot(133); plt.hist(img_flatten, 256, [0,256]); plt.xlim([0, 256]); plt.title('256 Bins')"
   ]
  },
  {
   "cell_type": "markdown",
   "metadata": {},
   "source": [
    "### <font style=\"color:rgb(50,120,230)\">Compare calcHist() with plt.hist()</font>"
   ]
  },
  {
   "cell_type": "markdown",
   "metadata": {},
   "source": [
    "\n",
    "<hr style=\"border:none; height: 4px; background-color:#D3D3D3\" />\n",
    "\n",
    "### <font color=\"green\">Function Syntax </font>\n",
    "\n",
    "```python\n",
    "    hist = cv2.calcHist(images, channels, mask, histSize, ranges[, hist[, accumulate]])\n",
    "```\n",
    "\n",
    "This function has **5 required arguments**:\n",
    "\n",
    "1. `images`:\tSource arrays. They all should have the same depth, CV_8U, CV_16U or CV_32F , and the same size. Each of them can have an arbitrary number of channels.\n",
    "\n",
    "2. `channels`:\tList of the dims channels used to compute the histogram. The first array channels are numerated from 0 to images[0].channels()-1 , the second array channels are counted from images[0].channels() to images[0].channels() + images[1].channels()-1, and so on.\n",
    "\n",
    "3. `mask`:\tOptional mask. If the matrix is not empty, it must be an 8-bit array of the same size as images[i] . The non-zero mask elements mark the array elements counted in the histogram.\n",
    "\n",
    "4. `histSize`:\tArray of histogram sizes in each dimension.\n",
    "\n",
    "5. `ranges`:\tArray of the dims arrays of the histogram bin boundaries in each dimension. \n",
    "### <font color=\"green\">OpenCV Documentation</font>\n",
    "\n",
    "\n",
    "[**`calcHist()`**](https://docs.opencv.org/4.5.2/d6/dc7/group__imgproc__hist.html#ga4b2b5fd75503ff9e6844cc4dcdaed35d)\n",
    "\n",
    "<hr style=\"border:none; height: 4px; background-color:#D3D3D3\" />"
   ]
  },
  {
   "cell_type": "code",
   "execution_count": null,
   "metadata": {},
   "outputs": [],
   "source": [
    "# Read the image.\n",
    "img = cv2.imread('Apollo-8-Launch.jpg', 0)\n",
    "\n",
    "# Use calcHist() in OpenCV.\n",
    "hist = cv2.calcHist(images = [img], channels = [0], mask = None, histSize = [256], ranges = [0,255])\n",
    "\n",
    "# Flatten the image data.\n",
    "img_flatten = img.ravel()\n",
    "\n",
    "# Display the image and histograms.\n",
    "plt.figure(figsize = [18, 4])\n",
    "plt.subplot(131); plt.imshow(img); plt.title('Original Image')\n",
    "plt.subplot(132); plt.plot(hist); plt.xlim([0, 256]); plt.title('cv2.calcHist()')\n",
    "plt.subplot(133); plt.hist(img_flatten,256,[0,256]); plt.xlim([0, 256]); plt.title('np.ravel(), plt.hist()')"
   ]
  },
  {
   "cell_type": "markdown",
   "metadata": {},
   "source": [
    "### <font style=\"color:rgb(50,120,230)\">Different images with identical histograms</font>"
   ]
  },
  {
   "cell_type": "code",
   "execution_count": null,
   "metadata": {},
   "outputs": [],
   "source": [
    "# Load in the two gradient images.\n",
    "img_gradient = cv2.imread('linear_graident.png', cv2.IMREAD_GRAYSCALE)\n",
    "img_noisy = cv2.imread('noisy.png', cv2.IMREAD_GRAYSCALE)\n",
    "\n",
    "# Flatten the image data into a single 1D arrays.\n",
    "gradient_flatten = img_gradient.ravel()\n",
    "noisy_flatten = img_noisy.ravel()\n",
    "\n",
    "# Display the images and histograms.\n",
    "plt.figure(figsize = [18, 10])\n",
    "\n",
    "plt.subplot(221); plt.imshow(img_gradient); plt.title('Linear Gradient')\n",
    "\n",
    "plt.subplot(222) \n",
    "plt.hist(gradient_flatten, range = [0, 256])\n",
    "plt.xlim([0, 256])\n",
    "plt.xlabel('Pixel Intensity')\n",
    "plt.ylabel('Numer of Pixels')\n",
    "plt.title('Histogram of linear gradient');\n",
    "\n",
    "plt.subplot(223); plt.imshow(img_noisy); plt.title('Noisy Image')\n",
    "\n",
    "plt.subplot(224) \n",
    "plt.hist(noisy_flatten, range = [0, 256])\n",
    "plt.xlim([0, 256])\n",
    "plt.xlabel('Pixel Intensity')\n",
    "plt.ylabel('Numer of Pixels')\n",
    "plt.title('Histogram of noisy image')"
   ]
  },
  {
   "cell_type": "markdown",
   "metadata": {},
   "source": [
    "### <font style=\"color:rgb(50,120,230)\">Explanation</font>\n",
    "\n",
    "It is important to understand what histograms can and cannot tell us. In two very different images actually have identical histograms, with an approximately even distrubution of pixels in each bin. Just because two images have identical histograms, it does not mean they are otherwise the same."
   ]
  },
  {
   "cell_type": "markdown",
   "metadata": {},
   "source": [
    "# 2. Color Histograms"
   ]
  },
  {
   "cell_type": "code",
   "execution_count": null,
   "metadata": {},
   "outputs": [],
   "source": [
    "# Read the color images.\n",
    "img = cv2.imread('Emerald_Lakes_New_Zealand.jpg')\n",
    "\n",
    "# Compute histograms for each color channel for both images.\n",
    "hist1 = cv2.calcHist([img], [0], None, [256], [0, 255])\n",
    "hist2 = cv2.calcHist([img], [1], None, [256], [0, 255])\n",
    "hist3 = cv2.calcHist([img], [2], None, [256], [0, 255])\n",
    "\n",
    "# Display the images and histogram plots.\n",
    "plt.figure(figsize = [18, 10])\n",
    "plt.subplot(221); plt.imshow(img[:, :, ::-1])\n",
    "\n",
    "plt.subplot(222) \n",
    "plt.plot(hist1, 'b'); plt.plot(hist2, 'g'); plt.plot(hist3, 'r') \n",
    "plt.xlim([0, 256])\n",
    "plt.ylim([0, 200000])"
   ]
  },
  {
   "cell_type": "markdown",
   "metadata": {},
   "source": [
    "### <font style=\"color:rgb(50,120,230)\">Using a mask with calcHist()</font>"
   ]
  },
  {
   "cell_type": "code",
   "execution_count": null,
   "metadata": {},
   "outputs": [],
   "source": [
    "# Read the color images.\n",
    "img = cv2.imread('Emerald_Lakes_New_Zealand.jpg')\n",
    "\n",
    "# Create a mask to filter the image for the histogram calculation.\n",
    "mask_hist = np.zeros((img.shape[0], img.shape[1]), dtype = 'uint8')\n",
    "\n",
    "# Select a region that isolates the green lake.\n",
    "mask_hist[2100:2400, 1500:2200] =  255\n",
    "\n",
    "# Create a similar mask to show the selected region in the image (for display purposes only).\n",
    "# The mask must have the same number of color channels as the image, but each color channel will\n",
    "# contain the same information.\n",
    "mat = [mask_hist, mask_hist, mask_hist]\n",
    "mask_3ch = cv2.merge(mat, 3)\n",
    "\n",
    "# Create an image that only shows the selected region of interest.\n",
    "img_roi = cv2.bitwise_and(img, mask_3ch)\n",
    "\n",
    "# Compute histograms for each color channel for both images.\n",
    "hist1_lake = cv2.calcHist([img], [0], mask_hist, [256], [0, 255])\n",
    "hist2_lake = cv2.calcHist([img], [1], mask_hist, [256], [0, 255])\n",
    "hist3_lake = cv2.calcHist([img], [2], mask_hist, [256], [0, 255])\n",
    "\n",
    "# Display the images and histogram plots.\n",
    "plt.figure(figsize = [18, 10])\n",
    "plt.subplot(223); plt.imshow(img_roi[:, :, ::-1])\n",
    "plt.subplot(224); plt.plot(hist1_lake, 'b'); plt.plot(hist2_lake, 'g'); plt.plot(hist3_lake, 'r') \n",
    "plt.xlim([0, 256])\n",
    "plt.ylim([0, 10000])"
   ]
  },
  {
   "cell_type": "markdown",
   "metadata": {},
   "source": [
    "# 3. Histogram Equalization\n",
    "An image histogram is a graphical representation of the tonal distribution of data. Each histogram is simply an array with 256 bins, and each bins contains the number of pixels with that intensity.\n",
    "Histogram Equalization is a non-linear method for enhancing contrast in an image. Let's see how to perform histogram equalization in OpenCV using [**`equalizeHist()`**](https://docs.opencv.org/4.1.0/d6/dc7/group__imgproc__hist.html#ga7e54091f0c937d49bf84152a16f76d6e). "
   ]
  },
  {
   "cell_type": "markdown",
   "metadata": {},
   "source": [
    "## 3.1 Histogram Equalization for Grayscale Images</font>\n",
    "\n",
    "The function `equalizeHist()` performs histogram equalization on a grayscale image. The syntax is given below.\n",
    "\n",
    "<hr style=\"border:none; height: 4px; background-color:#D3D3D3\" />\n",
    "\n",
    "### <font color=\"green\">Function Syntax </font>\n",
    "\n",
    "```python\n",
    "\tdst = cv2.equalizeHist(src[, dst])\n",
    "```\n",
    "\n",
    "**Parameters**\n",
    "\n",
    "- **`src`**:\tSource 8-bit single channel image.\n",
    "- **`dst`**:\tDestination image of the same size and type as src.\n",
    "\n",
    "### <font color=\"green\">OpenCV Documentation</font>\n",
    "\n",
    "\n",
    "[**`equalizeHist()`**](https://docs.opencv.org/4.1.0/d6/dc7/group__imgproc__hist.html#ga7e54091f0c937d49bf84152a16f76d6e)\n",
    "\n",
    "<hr style=\"border:none; height: 4px; background-color:#D3D3D3\" />"
   ]
  },
  {
   "cell_type": "code",
   "execution_count": null,
   "metadata": {},
   "outputs": [],
   "source": [
    "# Read the image in grayscale format.\n",
    "img = cv2.imread('parrot.jpg', cv2.IMREAD_GRAYSCALE)\n",
    "\n",
    "# Display the images.\n",
    "plt.figure(figsize = (18, 6))\n",
    "plt.subplot(121); plt.imshow(img); plt.title('Original Image')\n"
   ]
  },
  {
   "cell_type": "code",
   "execution_count": null,
   "metadata": {},
   "outputs": [],
   "source": [
    "# Read the image in grayscale format.\n",
    "img = cv2.imread('parrot.jpg', cv2.IMREAD_GRAYSCALE)\n",
    "\n",
    "# Equalize histogram\n",
    "img_eq = cv2.equalizeHist(img)\n",
    "\n",
    "# Display the images.\n",
    "plt.figure(figsize = (18, 6))\n",
    "plt.subplot(121); plt.imshow(img_eq); plt.title('Equalized Image')\n",
    "plt.subplot(122); plt.hist(img_eq.ravel(), 256, [0, 256]); plt.title('Equalized Histogram')"
   ]
  },
  {
   "cell_type": "markdown",
   "metadata": {},
   "source": [
    "As expected, the histogram is spread more uniformly over the range "
   ]
  },
  {
   "cell_type": "markdown",
   "metadata": {},
   "source": [
    "## 3.2 Histogram Equalization for Color Images</font>\n",
    "\n",
    "For color images, we can not simply apply histogram equalization on the R, G, B channels separately. To understand why it is not a very good idea, let's take a look at an example.\n",
    "\n",
    "### <font style=\"color:rgb(50,120,230)\">Wrong Way</font>"
   ]
  },
  {
   "cell_type": "code",
   "execution_count": null,
   "metadata": {},
   "outputs": [],
   "source": [
    "# Read color image\n",
    "img = cv2.imread('parrot.jpg')\n",
    "img_eq = np.zeros_like(img)\n",
    "\n",
    "# Peform histogram equalization on each channel separately.\n",
    "for i in range(0, 3):\n",
    "    img_eq[:, :, i] = cv2.equalizeHist(img[:, :, i])\n",
    "\n",
    "# Display the images.\n",
    "plt.figure(figsize = (18, 6))\n",
    "plt.subplot(121); plt.imshow(img[:, :, ::-1]); plt.title('Original Color Image')\n",
    "plt.subplot(122); plt.imshow(img_eq[:, :, ::-1]); plt.title('Equalized Image')"
   ]
  },
  {
   "cell_type": "markdown",
   "metadata": {},
   "source": [
    "### <font style=\"color:rgb(50,120,230)\">Right Way</font>\n",
    "\n",
    "We just saw that histogram equalization performed on the three channels separately leads to poor results. The reason is that when each color channel is non-linearly transformed independently, you can get completely new and unrelated colors. \n",
    "\n",
    "The right way to perform histogram equalization on color images is to transform the images to a space like the **HSV** colorspace where colors/hue/tint is separated from the intensity. \n",
    "\n",
    "**WORKFLOW**\n",
    "\n",
    "1. Tranform the image to HSV colorspace.\n",
    "2. Perform histogram equalization only on the V channel. \n",
    "3. Transform the image back to RGB colorspace."
   ]
  },
  {
   "cell_type": "code",
   "execution_count": null,
   "metadata": {
    "scrolled": true
   },
   "outputs": [],
   "source": [
    "# Read the color image.\n",
    "img = cv2.imread('parrot.jpg', cv2.IMREAD_COLOR)\n",
    "\n",
    "# Convert to HSV.\n",
    "img_hsv = cv2.cvtColor(img, cv2.COLOR_BGR2HSV)\n",
    "\n",
    "# Perform histogram equalization only on the V channel, for value intensity.\n",
    "img_hsv[:,:,2] = cv2.equalizeHist(img_hsv[:, :, 2])\n",
    "\n",
    "# Convert back to BGR format.\n",
    "img_eq = cv2.cvtColor(img_hsv, cv2.COLOR_HSV2BGR)\n",
    "\n",
    "# Display the images.\n",
    "plt.figure(figsize = (18, 6))\n",
    "plt.subplot(121); plt.imshow(img[:, :, ::-1]); plt.title('Original Color Image')\n",
    "plt.subplot(122); plt.imshow(img_eq[:, :, ::-1]); plt.title('Equalized Image')"
   ]
  },
  {
   "cell_type": "code",
   "execution_count": null,
   "metadata": {
    "scrolled": true
   },
   "outputs": [],
   "source": [
    "# Display the histograms.\n",
    "plt.figure(figsize = [15,4])\n",
    "plt.subplot(121); plt.hist(img.ravel(),256,[0,256]); plt.title('Original Image')\n",
    "plt.subplot(122); plt.hist(img_eq.ravel(),256,[0,256]); plt.title('Histogram Equalized')"
   ]
  }
 ],
 "metadata": {
  "kernelspec": {
   "display_name": "Python 3 (ipykernel)",
   "language": "python",
   "name": "python3"
  },
  "language_info": {
   "codemirror_mode": {
    "name": "ipython",
    "version": 3
   },
   "file_extension": ".py",
   "mimetype": "text/x-python",
   "name": "python",
   "nbconvert_exporter": "python",
   "pygments_lexer": "ipython3",
   "version": "3.12.5"
  }
 },
 "nbformat": 4,
 "nbformat_minor": 4
}
